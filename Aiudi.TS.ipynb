{
 "cells": [
  {
   "cell_type": "markdown",
   "metadata": {},
   "source": [
    "# The Crossroads of Data & Fitness\n",
    "\n",
    "The data being presented today comes from a CSV file built based off information recorded from the BBC MicroBit Controller. With a number of sensors, buttons, an accelerometer, and more, this small device has a large number of applications. The particular CSV file being examined today is based off two pieces of data from my MicroBit. The first piece of this data is a counter, which increases in incremements of 1, with each press of the B button. Alternatively, the A button then records the counter total, and a running time since the MicroBit was flashed. This acts as an on-site, extremely accurate timer for any sporting event. Particular applications are ski and horse racing."
   ]
  },
  {
   "cell_type": "markdown",
   "metadata": {},
   "source": [
    "### The Computational Process\n",
    "\n",
    "While building the MicroBit wasn't easy, there were a number of tools, methods, and resources which helped me complete my project. Some particular computational thinking practices I utilized were while loops, if statements, plenty of trial and error, and a healthy dose of determination. I also utilized the Python website to find documentation, as well as GitHub, and working with partners (Maddie, Luke)"
   ]
  },
  {
   "cell_type": "code",
   "execution_count": 24,
   "metadata": {},
   "outputs": [],
   "source": [
    "import pandas as pd\n",
    "import matplotlib.pyplot as plt\n",
    "import numpy as np\n",
    "% matplotlib inline"
   ]
  },
  {
   "cell_type": "markdown",
   "metadata": {},
   "source": [
    "#### The code you see above establishes basic libraries I'll need. \n",
    "\n",
    "#### Below you'll see a print out of my lines of data, including the headers, and a total list of data recorded."
   ]
  },
  {
   "cell_type": "markdown",
   "metadata": {},
   "source": []
  },
  {
   "cell_type": "code",
   "execution_count": 25,
   "metadata": {},
   "outputs": [
    {
     "name": "stdout",
     "output_type": "stream",
     "text": [
      "   Total Count (Clicks of B)  Total Minutes Since Flash (Click of A)\n",
      "0                          1                                    4.30\n",
      "1                          2                                    8.28\n",
      "2                          1                                    3.17\n",
      "3                          2                                    7.04\n"
     ]
    }
   ],
   "source": [
    "Mile_time = pd.read_csv(\"Aiudi.MD.csv\")\n",
    "print(Mile_time.head())"
   ]
  },
  {
   "cell_type": "markdown",
   "metadata": {},
   "source": [
    "#### Each (Clicks of B) is exactly 1/2 mile, therefore the 2nd and 4th times are exactly 1 mile \n",
    "2. What factors determine how fast a runner is (Sleep, Diet, Regular Exercise)?\n",
    "1. Does running the up-hill at the beginning or end have an affect on time?"
   ]
  },
  {
   "cell_type": "markdown",
   "metadata": {},
   "source": [
    "### Answering Our Questions: \n",
    "\n",
    "Below, I've created a simple, horizontal bar graph to better compare and exam the different pieces of data. This bar graph is appropriate because it accurately sets up the amount of time to allow for comparison. Additionally, the data fit the bar graph well. Requiring very little adjustment within Python. Incorporating for the headers and column within the CSV was the most difficult part, but ultimately was solved through setting a head and index_column to 0."
   ]
  },
  {
   "cell_type": "code",
   "execution_count": 26,
   "metadata": {},
   "outputs": [
    {
     "data": {
      "image/png": "[encoded data removed]",
      "text/plain": [
       "<matplotlib.figure.Figure at 0x115b49f28>"
      ]
     },
     "metadata": {},
     "output_type": "display_data"
    }
   ],
   "source": [
    "data = pd.read_csv(\"Aiudi.MD.csv\",header=0, index_col=0,)\n",
    "\n",
    "data.plot(kind=\"barh\",figsize=(8,8),alpha=0.95,color=\"red\",fontsize=10)\n",
    "plt.ylabel(\"1/2 Mile Per Bar\",fontsize=15)\n",
    "plt.xlabel(\"Time (Minutes)\",fontsize=15)\n",
    "plt.title(\"1/2 Mi. Times\",fontsize=20,)\n",
    "\n",
    "plt.show()"
   ]
  },
  {
   "cell_type": "markdown",
   "metadata": {},
   "source": [
    "### Data Discussion\n",
    "\n",
    "As you can see from the bar graph above, there was a noticable difference between Day 1s time, and Day 2s time. The reason for this could be up to a number of circumstances. First, the runner was asked to eat better and get more sleep the day before and night of his second run. While a number of others factors may have contributed, the researcher believes this is the sole purpose for greater success. When the test was performed, the runner was asked to start up-hil on the second day, and regardless of this change, still outperformed his day 1 test speed.\n",
    "\n",
    "### Problems With Data Collection\n",
    "\n",
    "Because the MicroBit starts recording the running time from the flash time, the exercise must be performed immediately after flashing the device. While this may be ina limitation in some cases, it was not in this particular collection. The exercise was begun immediately following the MicroBit being flashed.\n",
    "\n",
    "### Conclusion\n",
    "\n",
    "Ultimately my experiment with the MicroBit turned out to be a success. The ability to visualize and analyze the data offered new insights, and allowed me to better determine a scientific process for collection in the future. Additionally, I can conlude logically that a good diet and plenty of sleep have an overwhelming effect on running ability. Considering the tremendous decrease in time from Day 1 to Day 2, albeit with the reversal of the route. (Uphil first vs Uphill last).\n",
    "\n",
    "#### Acknowledgements\n",
    "\n",
    "Thanks to Junnan, Maddie, Luke, Cheyenne, Luke's friend, my roomates, and the internet"
   ]
  }
 ],
 "metadata": {
  "celltoolbar": "Raw Cell Format",
  "kernelspec": {
   "display_name": "Python 3",
   "language": "python",
   "name": "python3"
  },
  "language_info": {
   "codemirror_mode": {
    "name": "ipython",
    "version": 3
   },
   "file_extension": ".py",
   "mimetype": "text/x-python",
   "name": "python",
   "nbconvert_exporter": "python",
   "pygments_lexer": "ipython3",
   "version": "3.6.4"
  }
 },
 "nbformat": 4,
 "nbformat_minor": 2
}
